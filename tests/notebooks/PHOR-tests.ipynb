{
 "cells": [
  {
   "cell_type": "markdown",
   "id": "efd3eda0",
   "metadata": {},
   "source": [
    "# Algorithm Testing with PHOR-in-One Lexical Database\n",
    "## 1. Orthogonal Normalized Levestein Distance (Ortho NLD)"
   ]
  },
  {
   "cell_type": "markdown",
   "id": "a0be56d0",
   "metadata": {},
   "source": []
  }
 ],
 "metadata": {
  "language_info": {
   "name": "python"
  }
 },
 "nbformat": 4,
 "nbformat_minor": 5
}
